{
 "cells": [
  {
   "cell_type": "markdown",
   "metadata": {},
   "source": [
    "### Keeping your API keys secret\n",
    "\n",
    "Often, to access data from APIs, you must use an API \"key\". This key identifies your account to the API you're calling. \n",
    "\n",
    "You **never** want to commit your API keys for any service to `git`, especially if your repo is public. Anyone reading your code could take that API key and make API requests on your behalf. If your key is tied to a service like Amazon Web Services, where you can create resources (*that cost money*) using the API, making your key public can be a costly mistake.\n",
    "\n",
    "Since you want to commit your _code_ to `git`, this means you need a way to separate your code from your API key.\n",
    "\n",
    "Typically, you'll want to keep your API key in some file on your computer (for some services, it may make sense to encrypt your API key, which is beyond the scope of this document). Below, we'll run through an example of how to pull an API key from a file into a Python program, as a string that you can use in your program.\n",
    "\n",
    "Before you run the code below, \n",
    "\n",
    "* Create a file called `apikey`, with a single line that contains the API key you want to store\n",
    "* Create a `.gitignore` file, add a single line with the word \"apikey\" and save the file. `.gitignore` is a special file that `git` uses to ignore any files listed. You won't be asked to add / commit changes to these files, so it's an easy way to make sure you don't accidentally commit these files to `git`. See [this reference](https://git-scm.com/docs/gitignore) for more information."
   ]
  },
  {
   "cell_type": "code",
   "execution_count": null,
   "metadata": {
    "collapsed": true
   },
   "outputs": [],
   "source": [
    "# See above - we've created an API key in a file called 'apikey', \n",
    "# in the same directory as this notebook\n",
    "filename = 'apikey'"
   ]
  },
  {
   "cell_type": "code",
   "execution_count": null,
   "metadata": {
    "collapsed": true
   },
   "outputs": [],
   "source": [
    "def get_file_contents(filename):\n",
    "    \"\"\" Given a filename,\n",
    "        return the contents of that file\n",
    "    \"\"\"\n",
    "    try:\n",
    "        with open(filename, 'r') as f:\n",
    "            # It's assumed our file contains a single line,\n",
    "            # with our API key\n",
    "            return f.read().strip()\n",
    "    except FileNotFoundError:\n",
    "        print(\"'%s' file not found\" % filename)"
   ]
  },
  {
   "cell_type": "code",
   "execution_count": null,
   "metadata": {},
   "outputs": [],
   "source": [
    "api_key = get_file_contents(filename)\n",
    "print(\"Our API key is: %s\" % (api_key))"
   ]
  },
  {
   "cell_type": "markdown",
   "metadata": {},
   "source": [
    "### Storing more than one piece of data in a config file\n",
    "\n",
    "Often, you're not just storing one API key or password in a config file. You might have authorization information for multiple sites (OpenWeatherMap API, Twitter, etc.), and you don't want to create different files for each.\n",
    "\n",
    "You could keep the authorization data for each API on their own lines, like so:\n",
    "\n",
    "```\n",
    "123\n",
    "abcdef\n",
    "ghijkl\n",
    "...\n",
    "```\n",
    "\n",
    "But there's no easy way to identify what keys correspond to what services. It's just a bunch of meaningless lines in a file, so it's impossible to read.\n",
    "\n",
    "There are a few ways to solve this problem, but [YAML](https://en.wikipedia.org/wiki/YAML) provides a structured data format that's easy for humans and machines to read. YAML is often used to structure config files like this.\n",
    "\n",
    "Let's take a look at our example YAML file, `auth.yaml`:\n",
    "\n",
    "```\n",
    "twitter:\n",
    "    consumer_key: your_consumer_key_goes_here\n",
    "    consumer_secret: your_consumer_secret_goes_here\n",
    "    access_token: your_access_token_goes_here\n",
    "    access_token_secret: your_access_token_secret_goes_here\n",
    "```\n",
    "\n",
    "First, you'll want to fill in your credentials in place of the example values.\n",
    "\n",
    "Next, let's use the `yaml` package to read the contents of this file into our Python script. Make sure to `source activate` your virtual environment before you run the `pip` command below:"
   ]
  },
  {
   "cell_type": "code",
   "execution_count": 1,
   "metadata": {},
   "outputs": [
    {
     "name": "stdout",
     "output_type": "stream",
     "text": [
      "Requirement already satisfied: pyyaml in /Users/dylan/Envs/yaml-config-example/lib/python3.5/site-packages\r\n"
     ]
    }
   ],
   "source": [
    "!pip install pyyaml"
   ]
  },
  {
   "cell_type": "markdown",
   "metadata": {},
   "source": [
    "Note that the package name we use to install this module is `pyyaml`, but we `import yaml` below.\n",
    "\n",
    "Here's how we'll use the `yaml` module to read in data from our config file:"
   ]
  },
  {
   "cell_type": "code",
   "execution_count": 10,
   "metadata": {},
   "outputs": [
    {
     "name": "stdout",
     "output_type": "stream",
     "text": [
      "<class 'dict'>\n"
     ]
    }
   ],
   "source": [
    "import yaml\n",
    "TWITTER_CONFIG_FILE = 'auth.yaml'\n",
    "\n",
    "with open(TWITTER_CONFIG_FILE, 'r') as config_file:\n",
    "    config = yaml.load(config_file)\n",
    "    \n",
    "print(type(config))"
   ]
  },
  {
   "cell_type": "markdown",
   "metadata": {},
   "source": [
    "We see that our `config` variable - the contents of the YAML file - is a dictionary. Let's see what's inside"
   ]
  },
  {
   "cell_type": "code",
   "execution_count": 13,
   "metadata": {},
   "outputs": [
    {
     "name": "stdout",
     "output_type": "stream",
     "text": [
      "{\n",
      "    \"twitter\": {\n",
      "        \"access_token\": \"your_access_token_goes_here\",\n",
      "        \"access_token_secret\": \"your_access_token_secret_goes_here\",\n",
      "        \"consumer_key\": \"your_consumer_key_goes_here\",\n",
      "        \"consumer_secret\": \"your_consumer_secret_goes_here\"\n",
      "    }\n",
      "}\n"
     ]
    }
   ],
   "source": [
    "import json\n",
    "\n",
    "print(json.dumps(config, indent=4, sort_keys=True))"
   ]
  },
  {
   "cell_type": "markdown",
   "metadata": {},
   "source": [
    "This dictionary looks a lot like the structure of the YAML file itself!\n",
    "\n",
    "```\n",
    "twitter:\n",
    "    consumer_key: your_consumer_key_goes_here\n",
    "    consumer_secret: your_consumer_secret_goes_here\n",
    "    access_token: your_access_token_goes_here\n",
    "    access_token_secret: your_access_token_secret_goes_here\n",
    "```\n",
    "\n",
    "You should read more about YAML on Google to understand this structure, and more.\n",
    "\n",
    "Since this is a dictionary, we can extract our consumer key directly:"
   ]
  },
  {
   "cell_type": "code",
   "execution_count": 15,
   "metadata": {},
   "outputs": [
    {
     "name": "stdout",
     "output_type": "stream",
     "text": [
      "your_consumer_key_goes_here\n"
     ]
    }
   ],
   "source": [
    "consumer_key = config['twitter']['consumer_key']\n",
    "print(consumer_key)"
   ]
  },
  {
   "cell_type": "markdown",
   "metadata": {},
   "source": [
    "**Important Note**: I've only checked the `auth.yaml` file into `git` to show you what a YAML file looks like. As we did above, **remember to add your config file to your `.gitignore` file so that you do not accidentally commit it to `git`**."
   ]
  }
 ],
 "metadata": {
  "kernelspec": {
   "display_name": "Python 3",
   "language": "python",
   "name": "python3"
  },
  "language_info": {
   "codemirror_mode": {
    "name": "ipython",
    "version": 3
   },
   "file_extension": ".py",
   "mimetype": "text/x-python",
   "name": "python",
   "nbconvert_exporter": "python",
   "pygments_lexer": "ipython3",
   "version": "3.5.1"
  }
 },
 "nbformat": 4,
 "nbformat_minor": 2
}
