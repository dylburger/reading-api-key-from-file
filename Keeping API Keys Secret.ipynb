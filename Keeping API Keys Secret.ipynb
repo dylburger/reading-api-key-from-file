{
 "cells": [
  {
   "cell_type": "markdown",
   "metadata": {},
   "source": [
    "### Keeping your API keys secret\n",
    "\n",
    "Often, to access data from APIs, you must use an API \"key\". This key identifies your account to the API you're calling. \n",
    "\n",
    "You **never** want to commit your API keys for any service to `git`, especially if your repo is public. Anyone reading your code could take that API key and make API requests on your behalf. If your key is tied to a service like Amazon Web Services, where you can create resources (*that cost money*) using the API, making your key public can be a costly mistake.\n",
    "\n",
    "Since you want to commit your _code_ to `git`, this means you need a way to separate your code from your API key.\n",
    "\n",
    "Typically, you'll want to keep your API key in some file on your computer (for some services, it may make sense to encrypt your API key, which is beyond the scope of this document). Below, we'll run through an example of how to pull an API key from a file into a Python program, as a string that you can use in your program.\n",
    "\n",
    "Before you run the code below, \n",
    "\n",
    "* Create a file called `apikey`, with a single line that contains the API key you want to store\n",
    "* Create a `.gitignore` file, add a single line with the word \"apikey\" and save the file. `.gitignore` is a special file that `git` uses to ignore any files listed. You won't be asked to add / commit changes to these files, so it's an easy way to make sure you don't accidentally commit these files to `git`. See [this reference](https://git-scm.com/docs/gitignore) for more information."
   ]
  },
  {
   "cell_type": "code",
   "execution_count": null,
   "metadata": {
    "collapsed": true
   },
   "outputs": [],
   "source": [
    "# See above - we've created an API key in a file called 'apikey', \n",
    "# in the same directory as this notebook\n",
    "filename = 'apikey'"
   ]
  },
  {
   "cell_type": "code",
   "execution_count": null,
   "metadata": {
    "collapsed": true
   },
   "outputs": [],
   "source": [
    "def get_file_contents(filename):\n",
    "    \"\"\" Given a filename,\n",
    "        return the contents of that file\n",
    "    \"\"\"\n",
    "    try:\n",
    "        with open(filename, 'r') as f:\n",
    "            # It's assumed our file contains a single line,\n",
    "            # with our API key\n",
    "            return f.read().strip()\n",
    "    except FileNotFoundError:\n",
    "        print(\"'%s' file not found\" % filename)"
   ]
  },
  {
   "cell_type": "code",
   "execution_count": null,
   "metadata": {},
   "outputs": [],
   "source": [
    "api_key = get_file_contents(filename)\n",
    "print(\"Our API key is: %s\" % (api_key))"
   ]
  }
 ],
 "metadata": {
  "kernelspec": {
   "display_name": "Python 3",
   "language": "python",
   "name": "python3"
  },
  "language_info": {
   "codemirror_mode": {
    "name": "ipython",
    "version": 3
   },
   "file_extension": ".py",
   "mimetype": "text/x-python",
   "name": "python",
   "nbconvert_exporter": "python",
   "pygments_lexer": "ipython3",
   "version": "3.6.3"
  }
 },
 "nbformat": 4,
 "nbformat_minor": 2
}
